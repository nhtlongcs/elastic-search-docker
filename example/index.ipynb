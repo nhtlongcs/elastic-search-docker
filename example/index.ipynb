{
 "cells": [
  {
   "cell_type": "markdown",
   "metadata": {},
   "source": [
    "## Prepapre DB"
   ]
  },
  {
   "cell_type": "code",
   "execution_count": 20,
   "metadata": {},
   "outputs": [
    {
     "data": {
      "text/html": [
       "<div>\n",
       "<style scoped>\n",
       "    .dataframe tbody tr th:only-of-type {\n",
       "        vertical-align: middle;\n",
       "    }\n",
       "\n",
       "    .dataframe tbody tr th {\n",
       "        vertical-align: top;\n",
       "    }\n",
       "\n",
       "    .dataframe thead th {\n",
       "        text-align: right;\n",
       "    }\n",
       "</style>\n",
       "<table border=\"1\" class=\"dataframe\">\n",
       "  <thead>\n",
       "    <tr style=\"text-align: right;\">\n",
       "      <th></th>\n",
       "      <th>Unnamed: 0</th>\n",
       "      <th>id</th>\n",
       "      <th>location</th>\n",
       "      <th>camera_model</th>\n",
       "      <th>thumbnails</th>\n",
       "      <th>selected_frames</th>\n",
       "      <th>created_time</th>\n",
       "      <th>date</th>\n",
       "      <th>month</th>\n",
       "      <th>year</th>\n",
       "      <th>day_of_week</th>\n",
       "      <th>part_of_day</th>\n",
       "      <th>local_time</th>\n",
       "      <th>captions</th>\n",
       "      <th>width</th>\n",
       "      <th>height</th>\n",
       "      <th>ext</th>\n",
       "      <th>fps</th>\n",
       "      <th>index</th>\n",
       "    </tr>\n",
       "  </thead>\n",
       "  <tbody>\n",
       "    <tr>\n",
       "      <th>0</th>\n",
       "      <td>Dapang_Jul2022_5_1</td>\n",
       "      <td>1</td>\n",
       "      <td>Dapang</td>\n",
       "      <td>DJI Osmo 3</td>\n",
       "      <td>information/thumbnails/Dapang_Jul2022/0005_000...</td>\n",
       "      <td>information/selected_frames/Dapang_Jul2022/000...</td>\n",
       "      <td>2022:08:27 07:48:37</td>\n",
       "      <td>2022-08-27</td>\n",
       "      <td>August</td>\n",
       "      <td>2022</td>\n",
       "      <td>Saturday</td>\n",
       "      <td>early morning</td>\n",
       "      <td>07:48</td>\n",
       "      <td>underwater view of a coral reef.</td>\n",
       "      <td>1920</td>\n",
       "      <td>1080</td>\n",
       "      <td>mp4</td>\n",
       "      <td>30.0</td>\n",
       "      <td>Dapang_Jul2022_5_1</td>\n",
       "    </tr>\n",
       "    <tr>\n",
       "      <th>1</th>\n",
       "      <td>Dapang_Jul2022_5_2</td>\n",
       "      <td>2</td>\n",
       "      <td>Dapang</td>\n",
       "      <td>DJI Osmo 3</td>\n",
       "      <td>information/thumbnails/Dapang_Jul2022/0005_000...</td>\n",
       "      <td>information/selected_frames/Dapang_Jul2022/000...</td>\n",
       "      <td>2022:08:27 07:48:37</td>\n",
       "      <td>2022-08-27</td>\n",
       "      <td>August</td>\n",
       "      <td>2022</td>\n",
       "      <td>Saturday</td>\n",
       "      <td>early morning</td>\n",
       "      <td>07:48</td>\n",
       "      <td>the reef is a bit smaller than the ones we saw.</td>\n",
       "      <td>1920</td>\n",
       "      <td>1080</td>\n",
       "      <td>mp4</td>\n",
       "      <td>30.0</td>\n",
       "      <td>Dapang_Jul2022_5_2</td>\n",
       "    </tr>\n",
       "    <tr>\n",
       "      <th>2</th>\n",
       "      <td>Dapang_Jul2022_5_3</td>\n",
       "      <td>3</td>\n",
       "      <td>Dapang</td>\n",
       "      <td>DJI Osmo 3</td>\n",
       "      <td>information/thumbnails/Dapang_Jul2022/0005_000...</td>\n",
       "      <td>information/selected_frames/Dapang_Jul2022/000...</td>\n",
       "      <td>2022:08:27 07:48:37</td>\n",
       "      <td>2022-08-27</td>\n",
       "      <td>August</td>\n",
       "      <td>2022</td>\n",
       "      <td>Saturday</td>\n",
       "      <td>early morning</td>\n",
       "      <td>07:48</td>\n",
       "      <td>the reef is a bit more shallow than the beach.</td>\n",
       "      <td>1920</td>\n",
       "      <td>1080</td>\n",
       "      <td>mp4</td>\n",
       "      <td>30.0</td>\n",
       "      <td>Dapang_Jul2022_5_3</td>\n",
       "    </tr>\n",
       "    <tr>\n",
       "      <th>3</th>\n",
       "      <td>Dapang_Jul2022_5_4</td>\n",
       "      <td>4</td>\n",
       "      <td>Dapang</td>\n",
       "      <td>DJI Osmo 3</td>\n",
       "      <td>information/thumbnails/Dapang_Jul2022/0005_000...</td>\n",
       "      <td>information/selected_frames/Dapang_Jul2022/000...</td>\n",
       "      <td>2022:08:27 07:48:37</td>\n",
       "      <td>2022-08-27</td>\n",
       "      <td>August</td>\n",
       "      <td>2022</td>\n",
       "      <td>Saturday</td>\n",
       "      <td>early morning</td>\n",
       "      <td>07:48</td>\n",
       "      <td>a small group of fish swim.</td>\n",
       "      <td>1920</td>\n",
       "      <td>1080</td>\n",
       "      <td>mp4</td>\n",
       "      <td>30.0</td>\n",
       "      <td>Dapang_Jul2022_5_4</td>\n",
       "    </tr>\n",
       "    <tr>\n",
       "      <th>4</th>\n",
       "      <td>Dapang_Jul2022_5_5</td>\n",
       "      <td>5</td>\n",
       "      <td>Dapang</td>\n",
       "      <td>DJI Osmo 3</td>\n",
       "      <td>information/thumbnails/Dapang_Jul2022/0005_000...</td>\n",
       "      <td>information/selected_frames/Dapang_Jul2022/000...</td>\n",
       "      <td>2022:08:27 07:48:37</td>\n",
       "      <td>2022-08-27</td>\n",
       "      <td>August</td>\n",
       "      <td>2022</td>\n",
       "      <td>Saturday</td>\n",
       "      <td>early morning</td>\n",
       "      <td>07:48</td>\n",
       "      <td>a small group of fish swim around a coral reef.</td>\n",
       "      <td>1920</td>\n",
       "      <td>1080</td>\n",
       "      <td>mp4</td>\n",
       "      <td>30.0</td>\n",
       "      <td>Dapang_Jul2022_5_5</td>\n",
       "    </tr>\n",
       "  </tbody>\n",
       "</table>\n",
       "</div>"
      ],
      "text/plain": [
       "           Unnamed: 0  id location camera_model  \\\n",
       "0  Dapang_Jul2022_5_1   1   Dapang   DJI Osmo 3   \n",
       "1  Dapang_Jul2022_5_2   2   Dapang   DJI Osmo 3   \n",
       "2  Dapang_Jul2022_5_3   3   Dapang   DJI Osmo 3   \n",
       "3  Dapang_Jul2022_5_4   4   Dapang   DJI Osmo 3   \n",
       "4  Dapang_Jul2022_5_5   5   Dapang   DJI Osmo 3   \n",
       "\n",
       "                                          thumbnails  \\\n",
       "0  information/thumbnails/Dapang_Jul2022/0005_000...   \n",
       "1  information/thumbnails/Dapang_Jul2022/0005_000...   \n",
       "2  information/thumbnails/Dapang_Jul2022/0005_000...   \n",
       "3  information/thumbnails/Dapang_Jul2022/0005_000...   \n",
       "4  information/thumbnails/Dapang_Jul2022/0005_000...   \n",
       "\n",
       "                                     selected_frames         created_time  \\\n",
       "0  information/selected_frames/Dapang_Jul2022/000...  2022:08:27 07:48:37   \n",
       "1  information/selected_frames/Dapang_Jul2022/000...  2022:08:27 07:48:37   \n",
       "2  information/selected_frames/Dapang_Jul2022/000...  2022:08:27 07:48:37   \n",
       "3  information/selected_frames/Dapang_Jul2022/000...  2022:08:27 07:48:37   \n",
       "4  information/selected_frames/Dapang_Jul2022/000...  2022:08:27 07:48:37   \n",
       "\n",
       "         date   month  year day_of_week    part_of_day local_time  \\\n",
       "0  2022-08-27  August  2022    Saturday  early morning      07:48   \n",
       "1  2022-08-27  August  2022    Saturday  early morning      07:48   \n",
       "2  2022-08-27  August  2022    Saturday  early morning      07:48   \n",
       "3  2022-08-27  August  2022    Saturday  early morning      07:48   \n",
       "4  2022-08-27  August  2022    Saturday  early morning      07:48   \n",
       "\n",
       "                                          captions  width  height  ext   fps  \\\n",
       "0                 underwater view of a coral reef.   1920    1080  mp4  30.0   \n",
       "1  the reef is a bit smaller than the ones we saw.   1920    1080  mp4  30.0   \n",
       "2   the reef is a bit more shallow than the beach.   1920    1080  mp4  30.0   \n",
       "3                      a small group of fish swim.   1920    1080  mp4  30.0   \n",
       "4  a small group of fish swim around a coral reef.   1920    1080  mp4  30.0   \n",
       "\n",
       "                index  \n",
       "0  Dapang_Jul2022_5_1  \n",
       "1  Dapang_Jul2022_5_2  \n",
       "2  Dapang_Jul2022_5_3  \n",
       "3  Dapang_Jul2022_5_4  \n",
       "4  Dapang_Jul2022_5_5  "
      ]
     },
     "execution_count": 20,
     "metadata": {},
     "output_type": "execute_result"
    }
   ],
   "source": [
    "import pandas as pd \n",
    "from tqdm import tqdm \n",
    "df = pd.read_csv('vbs23_meta.csv')\n",
    "df.head()"
   ]
  },
  {
   "cell_type": "code",
   "execution_count": 21,
   "metadata": {},
   "outputs": [],
   "source": [
    "# pd.Timestamp.max"
   ]
  },
  {
   "cell_type": "code",
   "execution_count": 22,
   "metadata": {},
   "outputs": [],
   "source": [
    "# df['created_time'] = pd.to_datetime(df['created_time'])"
   ]
  },
  {
   "cell_type": "markdown",
   "metadata": {},
   "source": [
    "## Create index in Elasticsearch"
   ]
  },
  {
   "cell_type": "code",
   "execution_count": 23,
   "metadata": {},
   "outputs": [],
   "source": [
    "from elasticsearch.helpers import bulk\n",
    "from elasticsearch import Elasticsearch, RequestsHttpConnection\n",
    "\n",
    "es = Elasticsearch(['http://0.0.0.0:9200'], timeout=100, connection_class=RequestsHttpConnection, http_auth=('elastic', '123456'), use_ssl=False, verify_certs=False)"
   ]
  },
  {
   "cell_type": "code",
   "execution_count": 24,
   "metadata": {},
   "outputs": [
    {
     "name": "stderr",
     "output_type": "stream",
     "text": [
      "/tmp/ipykernel_3967146/1932975029.py:2: DeprecationWarning: Using positional arguments for APIs is deprecated and will be disabled in 8.0.0. Instead use only keyword arguments for all APIs. See https://github.com/elastic/elasticsearch-py/issues/1698 for more information\n",
      "  es.indices.get_alias(\"*\")\n"
     ]
    },
    {
     "data": {
      "text/plain": [
       "{'vbs23_db': {'aliases': {}}}"
      ]
     },
     "execution_count": 24,
     "metadata": {},
     "output_type": "execute_result"
    }
   ],
   "source": [
    "es.indices.create(index='vbs23_db', ignore=400)\n",
    "es.indices.get_alias(\"*\")"
   ]
  },
  {
   "cell_type": "code",
   "execution_count": 25,
   "metadata": {},
   "outputs": [
    {
     "name": "stdout",
     "output_type": "stream",
     "text": [
      "Dapang_Jul2022_5_1\n",
      "{'Unnamed: 0': 'Dapang_Jul2022_5_1', 'id': 1, 'location': 'Dapang', 'camera_model': 'DJI Osmo 3', 'thumbnails': 'information/thumbnails/Dapang_Jul2022/0005_00001.jpg', 'selected_frames': 'information/selected_frames/Dapang_Jul2022/0005_00001.jpg', 'created_time': '2022:08:27 07:48:37', 'date': '2022-08-27', 'month': 'August', 'year': 2022, 'day_of_week': 'Saturday', 'part_of_day': 'early morning', 'local_time': '07:48', 'captions': 'underwater view of a coral reef.', 'width': 1920, 'height': 1080, 'ext': 'mp4', 'fps': 30.0}\n"
     ]
    }
   ],
   "source": [
    "\n",
    "for i, row in df.iterrows():\n",
    "    print(row['index'])\n",
    "    data = row.to_dict()\n",
    "    data.pop('index', None)\n",
    "    print(data)\n",
    "    break"
   ]
  },
  {
   "cell_type": "code",
   "execution_count": 26,
   "metadata": {},
   "outputs": [
    {
     "name": "stderr",
     "output_type": "stream",
     "text": [
      "100%|██████████| 43797/43797 [00:05<00:00, 8322.73it/s]\n"
     ]
    },
    {
     "data": {
      "text/plain": [
       "(43797, [])"
      ]
     },
     "execution_count": 26,
     "metadata": {},
     "output_type": "execute_result"
    }
   ],
   "source": [
    "def gen_data():\n",
    "    for i, row in tqdm(df.iterrows(), total=len(df)):\n",
    "        data = row.to_dict()\n",
    "        data.pop('index', None)\n",
    "        yield {\n",
    "            \"_index\": 'vbs23_db',\n",
    "            \"_id\": row['index'],\n",
    "            \"_source\": data\n",
    "        }\n",
    "bulk(es, gen_data())"
   ]
  },
  {
   "cell_type": "code",
   "execution_count": 27,
   "metadata": {},
   "outputs": [],
   "source": [
    "# Delete index\n",
    "# es.indices.delete(index='vbs23_db')"
   ]
  }
 ],
 "metadata": {
  "kernelspec": {
   "display_name": "elastic",
   "language": "python",
   "name": "python3"
  },
  "language_info": {
   "codemirror_mode": {
    "name": "ipython",
    "version": 3
   },
   "file_extension": ".py",
   "mimetype": "text/x-python",
   "name": "python",
   "nbconvert_exporter": "python",
   "pygments_lexer": "ipython3",
   "version": "3.8.13"
  },
  "orig_nbformat": 4,
  "vscode": {
   "interpreter": {
    "hash": "3e242d2624af79f4ab82e775fce7e2f7901da21f9b094faabf8c3149972e54fd"
   }
  }
 },
 "nbformat": 4,
 "nbformat_minor": 2
}
