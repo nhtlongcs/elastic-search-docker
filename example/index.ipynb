{
 "cells": [
  {
   "cell_type": "markdown",
   "metadata": {},
   "source": [
    "## Prepapre DB"
   ]
  },
  {
   "cell_type": "code",
   "execution_count": 28,
   "metadata": {},
   "outputs": [
    {
     "data": {
      "text/html": [
       "<div>\n",
       "<style scoped>\n",
       "    .dataframe tbody tr th:only-of-type {\n",
       "        vertical-align: middle;\n",
       "    }\n",
       "\n",
       "    .dataframe tbody tr th {\n",
       "        vertical-align: top;\n",
       "    }\n",
       "\n",
       "    .dataframe thead th {\n",
       "        text-align: right;\n",
       "    }\n",
       "</style>\n",
       "<table border=\"1\" class=\"dataframe\">\n",
       "  <thead>\n",
       "    <tr style=\"text-align: right;\">\n",
       "      <th></th>\n",
       "      <th>video_id</th>\n",
       "      <th>frame_id</th>\n",
       "      <th>words</th>\n",
       "    </tr>\n",
       "  </thead>\n",
       "  <tbody>\n",
       "    <tr>\n",
       "      <th>0</th>\n",
       "      <td>C00_V0000</td>\n",
       "      <td>0</td>\n",
       "      <td>['06:', '29', 'HTV', ':38', 'HP']</td>\n",
       "    </tr>\n",
       "    <tr>\n",
       "      <th>1</th>\n",
       "      <td>C00_V0000</td>\n",
       "      <td>96</td>\n",
       "      <td>['H', 'TV', '29:42', '06:', 'HD']</td>\n",
       "    </tr>\n",
       "    <tr>\n",
       "      <th>2</th>\n",
       "      <td>C00_V0000</td>\n",
       "      <td>206</td>\n",
       "      <td>['06:29:46', 'HD', 'HTV9']</td>\n",
       "    </tr>\n",
       "    <tr>\n",
       "      <th>3</th>\n",
       "      <td>C00_V0000</td>\n",
       "      <td>378</td>\n",
       "      <td>['9', 'GIÁY', '06', ':29', 'HTV', ':53', 'HD',...</td>\n",
       "    </tr>\n",
       "    <tr>\n",
       "      <th>4</th>\n",
       "      <td>C00_V0000</td>\n",
       "      <td>545</td>\n",
       "      <td>['30', ':00', '06', 'HTV', 'MP']</td>\n",
       "    </tr>\n",
       "  </tbody>\n",
       "</table>\n",
       "</div>"
      ],
      "text/plain": [
       "    video_id  frame_id                                              words\n",
       "0  C00_V0000         0                  ['06:', '29', 'HTV', ':38', 'HP']\n",
       "1  C00_V0000        96                  ['H', 'TV', '29:42', '06:', 'HD']\n",
       "2  C00_V0000       206                         ['06:29:46', 'HD', 'HTV9']\n",
       "3  C00_V0000       378  ['9', 'GIÁY', '06', ':29', 'HTV', ':53', 'HD',...\n",
       "4  C00_V0000       545                   ['30', ':00', '06', 'HTV', 'MP']"
      ]
     },
     "execution_count": 28,
     "metadata": {},
     "output_type": "execute_result"
    }
   ],
   "source": [
    "import pandas as pd \n",
    "\n",
    "df = pd.read_csv('demo_db.csv')\n",
    "df.head()"
   ]
  },
  {
   "cell_type": "code",
   "execution_count": 29,
   "metadata": {},
   "outputs": [],
   "source": [
    "# convert df words from string of list to list \n",
    "df['words'] = df['words'].apply(lambda x: eval(x))"
   ]
  },
  {
   "cell_type": "code",
   "execution_count": 31,
   "metadata": {},
   "outputs": [
    {
     "data": {
      "text/plain": [
       "[('C00_V0000', '000000', ['06:', '29', 'HTV', ':38', 'HP']),\n",
       " ('C00_V0000', '000096', ['H', 'TV', '29:42', '06:', 'HD']),\n",
       " ('C00_V0000', '000206', ['06:29:46', 'HD', 'HTV9']),\n",
       " ('C00_V0000',\n",
       "  '000378',\n",
       "  ['9',\n",
       "   'GIÁY',\n",
       "   '06',\n",
       "   ':29',\n",
       "   'HTV',\n",
       "   ':53',\n",
       "   'HD',\n",
       "   'NY',\n",
       "   'GIÂY',\n",
       "   'MAI',\n",
       "   'ANH',\n",
       "   'PHAN']),\n",
       " ('C00_V0000', '000545', ['30', ':00', '06', 'HTV', 'MP'])]"
      ]
     },
     "execution_count": 31,
     "metadata": {},
     "output_type": "execute_result"
    }
   ],
   "source": [
    "db_ls = []\n",
    "for i, row in df.iterrows():\n",
    "    video_id, frame_id, words = row['video_id'], f\"{row['frame_id']:06d}\", row['words']\n",
    "    db_ls.append((video_id, frame_id, words))\n",
    "db_ls[:5]"
   ]
  },
  {
   "cell_type": "markdown",
   "metadata": {},
   "source": [
    "## Create index in Elasticsearch"
   ]
  },
  {
   "cell_type": "code",
   "execution_count": 34,
   "metadata": {},
   "outputs": [],
   "source": [
    "from elasticsearch.helpers import bulk\n",
    "from elasticsearch import Elasticsearch, RequestsHttpConnection\n",
    "\n",
    "es = Elasticsearch(['http://0.0.0.0:9200'], timeout=100, connection_class=RequestsHttpConnection, http_auth=('elastic', '123456'), use_ssl=False, verify_certs=False)"
   ]
  },
  {
   "cell_type": "code",
   "execution_count": 36,
   "metadata": {},
   "outputs": [
    {
     "name": "stderr",
     "output_type": "stream",
     "text": [
      "/tmp/ipykernel_180386/3661718185.py:2: DeprecationWarning: Using positional arguments for APIs is deprecated and will be disabled in 8.0.0. Instead use only keyword arguments for all APIs. See https://github.com/elastic/elasticsearch-py/issues/1698 for more information\n",
      "  es.indices.get_alias(\"*\")\n"
     ]
    },
    {
     "data": {
      "text/plain": [
       "{'scenetext_db': {'aliases': {}}}"
      ]
     },
     "execution_count": 36,
     "metadata": {},
     "output_type": "execute_result"
    }
   ],
   "source": [
    "es.indices.create(index='scenetext_db', ignore=400)\n",
    "es.indices.get_alias(\"*\")"
   ]
  },
  {
   "cell_type": "code",
   "execution_count": 38,
   "metadata": {},
   "outputs": [
    {
     "data": {
      "text/plain": [
       "(224340, [])"
      ]
     },
     "execution_count": 38,
     "metadata": {},
     "output_type": "execute_result"
    }
   ],
   "source": [
    "def gen_data():\n",
    "\n",
    "    for i, (vid, fid, words) in enumerate(db_ls):\n",
    "        yield {\n",
    "            \"_index\": 'scenetext_db',\n",
    "            \"_id\": f'{vid}/{fid}',\n",
    "            \"_source\": {\n",
    "                'vid': vid,\n",
    "                'fid': fid,\n",
    "                'words': words\n",
    "            }\n",
    "        }\n",
    "bulk(es, gen_data())"
   ]
  },
  {
   "cell_type": "code",
   "execution_count": 39,
   "metadata": {},
   "outputs": [],
   "source": [
    "# Delete index\n",
    "# es.indices.delete(index='scenetext_db')"
   ]
  },
  {
   "cell_type": "code",
   "execution_count": null,
   "metadata": {},
   "outputs": [],
   "source": []
  }
 ],
 "metadata": {
  "kernelspec": {
   "display_name": "Python 3.8.15 ('elastic')",
   "language": "python",
   "name": "python3"
  },
  "language_info": {
   "codemirror_mode": {
    "name": "ipython",
    "version": 3
   },
   "file_extension": ".py",
   "mimetype": "text/x-python",
   "name": "python",
   "nbconvert_exporter": "python",
   "pygments_lexer": "ipython3",
   "version": "3.11.0"
  },
  "orig_nbformat": 4,
  "vscode": {
   "interpreter": {
    "hash": "8308731e4c1795a19a68d9c055ea1b94624d49915705d04d23fdcc9a64c3c064"
   }
  }
 },
 "nbformat": 4,
 "nbformat_minor": 2
}
