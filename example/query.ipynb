{
 "cells": [
  {
   "cell_type": "code",
   "execution_count": 3,
   "metadata": {},
   "outputs": [],
   "source": [
    "from pathlib import Path \n",
    "from logging import INFO\n",
    "from tqdm import tqdm\n",
    "import pandas as pd \n",
    "from PIL import Image\n",
    "import os \n",
    "import matplotlib.pyplot as plt"
   ]
  },
  {
   "cell_type": "code",
   "execution_count": 1,
   "metadata": {},
   "outputs": [],
   "source": [
    "from elasticsearch import Elasticsearch, RequestsHttpConnection\n",
    "from elasticsearch_dsl import Search\n",
    "\n",
    "es = Elasticsearch(['http://0.0.0.0:9200'], connection_class=RequestsHttpConnection, http_auth=('elastic', '123456'), use_ssl=False, verify_certs=False)"
   ]
  },
  {
   "cell_type": "code",
   "execution_count": 8,
   "metadata": {},
   "outputs": [
    {
     "name": "stdout",
     "output_type": "stream",
     "text": [
      "33.867615 ['HỒ', '9-5-2022', 'CHI', 'TP.', '', 'TRẺ', 'NGÀY', 'LÀ', 'CHÍNH', 'TUỔI', 'MÌNH', 'TRÈ', 'VUI', 'TRƯỜNG', 'PHÚC', 'NGÔI', 'NGÀY', 'ĐƯỢC', 'ĐỂ', 'NGÀY', 'HẠNH', 'TRƯỜNG', 'ĐẾN', 'MỘT', 'MỖI', 'LÀ'] C01_V0062/004340.jpg\n",
      "33.457024 ['G', 'HỒ', 'TP.', 'CHÍ', '', 'TUỔI', 'TRẺ', 'MÌNH', '9-5-2022', 'CHÍNH', 'NGÀY', 'LÀ', 'VUI', 'TRÈ', 'ĐỂ', 'TRƯỜNG', 'PHÚC', 'NGÀY', 'NGÔI', 'NGÀY', 'TRƯỜNG', 'ĐƯỢC', 'HẠNH', 'ĐẾN', 'MỘT', 'MỖI', 'LÀ'] C01_V0062/001116.jpg\n",
      "33.457024 ['G', 'HỒ', 'TP.', 'CHÍ', '', '9-5-2022', 'TUỔI', 'TRẺ', 'CHÍNH', 'MÌNH', 'LÀ', 'TRẺ', 'NGÀY', 'VUI', 'PHÚC', 'NGÔI', 'TRƯỜNG', 'ĐỂ', 'NGÀY', 'TRƯỜNG', 'NGÀY', 'ĐƯỢC', 'HẠNH', 'ĐẾN', 'MỘT', 'MỖI', 'LÀ'] C01_V0062/001386.jpg\n",
      "33.457024 ['G', 'HỒ', 'CHÍ', 'TP.', '', 'TUỔI', 'TRẺ', 'NGÀY', '9-5-2022', 'MÌNH', 'CHÍNH', 'TRÈ', 'LÀ', 'VUI', 'PHÚC', 'TRƯỜNG', 'ĐỂ', 'NGÀY', 'NGÔI', 'TRƯỜNG', 'NGÀY', 'ĐƯỢC', 'HẠNH', 'ĐẾN', 'MỘT', 'MỖI', 'LÀ'] C01_V0062/001776.jpg\n",
      "33.457024 ['-', 'G', 'HỒ', 'TP.', 'CHÍ', 'TUỔI', '', 'TRẺ', '9-5-2022', 'NGÀY', 'MÌNH', 'LÀ', 'CHÍNH', 'TRẺ', 'VUI', 'ĐỂ', 'PHÚC', 'NGÀY', 'TRƯỜNG', 'NGÀY', 'NGÔI', 'TRƯỜNG', 'ĐƯỢC', 'HẠNH', 'MỖI', 'ĐẾN', 'MỘT', 'LÀ'] C01_V0062/001939.jpg\n",
      "33.457024 ['-', 'G', 'HỒ', 'CHÍ', 'TP.', '9-5-2022', '', 'TUỔI', 'TRẺ', 'MÌNH', 'NGÀY', 'LÀ', 'TRẺ', 'CHÍNH', 'VUI', 'ĐỂ', 'PHÚC', 'NGÀY', 'NGÔI', 'TRƯỜNG', 'NGÀY', 'ĐƯỢC', 'TRƯỜNG', 'HẠNH', 'ĐẾN', 'MỘT', 'MỖI', 'LÀ'] C01_V0062/009790.jpg\n",
      "33.457024 ['G', 'CHÍ', 'HỒ', 'TP.', '', 'TUỔI', '9-5-2022', 'TRẺ', 'MÌNH', 'NGÀY', 'LÀ', 'CHÍNH', 'TRẺ', 'VUI', 'PHÚC', 'TRƯỜNG', 'ĐỂ', 'NGÔI', 'NGÀY', 'NGÀY', 'TRƯỜNG', 'ĐƯỢC', 'HẠNH', 'ĐẾN', 'MỘT', 'MỖI', 'LÀ'] C01_V0062/009796.jpg\n",
      "33.457024 ['G', 'HỒ', 'TP.', 'CHÍ', '9-5-2022', '', 'TUỔI', 'TRẺ', 'NGÀY', 'MÌNH', 'CHÍNH', 'TRÈ', 'LÀ', 'VUI', 'PHÚC', 'TRƯỜNG', 'NGÔI', 'ĐỂ', 'NGÀY', 'NGÀY', 'ĐƯỢC', 'TRƯỜNG', 'HẠNH', 'ĐẾN', 'MỘT', 'MỖI', 'LÀ'] C01_V0062/011446.jpg\n",
      "33.457024 ['G', 'HỒ', 'TP.', 'CHÍ', 'TUỔI', '', 'TRẺ', 'MÌNH', '9-5-2022', 'NGÀY', 'LÀ', 'CHÍNH', 'TRÈ', 'VUI', 'PHÚC', 'ĐỂ', 'NGÔI', 'TRƯỜNG', 'NGÀY', 'NGÀY', 'TRƯỜNG', 'HẠNH', 'ĐƯỢC', 'ĐẾN', 'MỖI', 'MỘT', 'LÀ'] C01_V0062/011532.jpg\n",
      "33.457024 ['-', 'G', 'HỒ', 'TP.', 'CHÍ', '9-5-2022', '', 'TUỔI', 'TRẺ', 'MÌNH', 'NGÀY', 'LÀ', 'TRÈ', 'CHÍNH', 'VUI', 'PHÚC', 'NGÔI', 'TRƯỜNG', 'ĐỂ', 'NGÀY', 'NGÀY', 'ĐƯỢC', 'TRƯỜNG', 'HẠNH', 'ĐẾN', 'MỖI', 'MỘT', 'LÀ'] C01_V0062/016292.jpg\n"
     ]
    }
   ],
   "source": [
    "def search(query):\n",
    "    query = query.upper()\n",
    "    global es\n",
    "    s = Search(using=es, index=\"scenetext_db\") \\\n",
    "        .query(\"multi_match\", query=query, fields=['words']) \\\n",
    "        .extra(size=100, explain=True)\n",
    "    response = s.execute()\n",
    "    return response\n",
    "responses = search(\"MỖI NGÀY ĐẾN TRƯỜNG LÀ MỘT NGÀY VUI\")\n",
    "for hit in responses[:10]:\n",
    "    print(hit.meta.score, hit.words, f\"{hit.vid}/{hit.fid}.jpg\")"
   ]
  }
 ],
 "metadata": {
  "kernelspec": {
   "display_name": "Python 3.11.0 ('elastic')",
   "language": "python",
   "name": "python3"
  },
  "language_info": {
   "codemirror_mode": {
    "name": "ipython",
    "version": 3
   },
   "file_extension": ".py",
   "mimetype": "text/x-python",
   "name": "python",
   "nbconvert_exporter": "python",
   "pygments_lexer": "ipython3",
   "version": "3.11.0"
  },
  "vscode": {
   "interpreter": {
    "hash": "8308731e4c1795a19a68d9c055ea1b94624d49915705d04d23fdcc9a64c3c064"
   }
  }
 },
 "nbformat": 4,
 "nbformat_minor": 4
}
