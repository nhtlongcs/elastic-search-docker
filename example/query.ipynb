{
 "cells": [
  {
   "cell_type": "code",
   "execution_count": 24,
   "metadata": {},
   "outputs": [],
   "source": [
    "from pathlib import Path \n",
    "from tqdm import tqdm\n",
    "import pandas as pd \n",
    "from PIL import Image\n",
    "import os \n",
    "import matplotlib.pyplot as plt"
   ]
  },
  {
   "cell_type": "code",
   "execution_count": 25,
   "metadata": {},
   "outputs": [],
   "source": [
    "from elasticsearch import Elasticsearch, RequestsHttpConnection\n",
    "from elasticsearch_dsl import Search\n",
    "\n",
    "es = Elasticsearch(['http://0.0.0.0:9200'], connection_class=RequestsHttpConnection, http_auth=('elastic', '123456'), use_ssl=False, verify_certs=False)"
   ]
  },
  {
   "cell_type": "code",
   "execution_count": 26,
   "metadata": {},
   "outputs": [
    {
     "name": "stdout",
     "output_type": "stream",
     "text": [
      "4.224244\n",
      "Padangbai_Jun2022_54_21\n",
      "a diver with a scuba diver.\n",
      "4.224244\n",
      "Padangbai_Jun2022_54_26\n",
      "a diver with a scuba diver.\n",
      "4.224244\n",
      "Padangbai_Jun2022_54_31\n",
      "a diver with a scuba diver.\n",
      "4.224244\n",
      "Padangbai_Jun2022_54_33\n",
      "a diver with a scuba diver.\n",
      "4.224244\n",
      "Padangbai_Jun2022_54_46\n",
      "a diver with a scuba diver.\n",
      "4.224244\n",
      "Sipadan_Jan2015_8_16\n",
      "a diver snorkels with a diver.\n",
      "4.039041\n",
      "Tulamben1_Jun2022_59_1\n",
      "person, a diver, photographs a scuba diver.\n",
      "4.039041\n",
      "Padangbai_Jun2022_55_3\n",
      "a scuba diver with a scuba diver.\n",
      "3.882225\n",
      "Padangbai_Jun2022_54_17\n",
      "scuba diver with a scuba diver.\n",
      "3.882225\n",
      "Padangbai_Jun2022_54_43\n",
      "scuba diver with a scuba diver.\n"
     ]
    }
   ],
   "source": [
    "def search(query):\n",
    "    query = query.upper()\n",
    "    global es\n",
    "    s = Search(using=es, index=\"vbs23_db\") \\\n",
    "        .query(\"multi_match\", query=query, fields=['captions']) \\\n",
    "        .extra(size=100, explain=True)\n",
    "    response = s.execute()\n",
    "    return response\n",
    "    \n",
    "responses = search(\"a diver\")\n",
    "for hit in responses[:10]:\n",
    "    print(hit.meta.score)\n",
    "    print(hit.meta.id)\n",
    "    print(hit.captions)"
   ]
  },
  {
   "cell_type": "code",
   "execution_count": 27,
   "metadata": {},
   "outputs": [
    {
     "name": "stdout",
     "output_type": "stream",
     "text": [
      "4.250752\n",
      "PhuQuoc_Jun2022_35_32\n",
      "a coral reef dies coral bleaching.\n",
      "4.250752\n",
      "PhuQuoc_Jun2022_41_15\n",
      "a coral reef dies coral bleaching.\n",
      "4.250752\n",
      "PhuQuoc_Jun2022_6_10\n",
      "a coral reef dies coral bleaching.\n",
      "4.250752\n",
      "PhuQuoc_Jun2022_1_31\n",
      "a coral reef dies coral bleaching.\n",
      "4.250752\n",
      "PhuQuoc_Jun2022_25_21\n",
      "a coral reef dies coral bleaching.\n",
      "4.250752\n",
      "PhuQuoc_Jun2022_26_9\n",
      "a coral reef dies coral bleaching.\n",
      "4.250752\n",
      "PhuQuoc_Jun2022_3_3\n",
      "a coral reef dies coral bleaching.\n",
      "4.250752\n",
      "PhuQuoc_Jun2022_23_8\n",
      "a coral reef dies coral bleaching.\n",
      "4.250752\n",
      "PhuQuoc_Jun2022_40_44\n",
      "a coral reef dies coral bleaching.\n",
      "4.250752\n",
      "PhuQuoc_Jun2022_20_12\n",
      "a coral reef dies coral bleaching.\n"
     ]
    }
   ],
   "source": [
    "def search(query):\n",
    "    global es\n",
    "    s = Search(using=es, index=\"vbs23_db\") \\\n",
    "        .query(\"query_string\", query=query) \\\n",
    "        .extra(size=100, explain=True)\n",
    "    response = s.execute()\n",
    "    return response\n",
    "    \n",
    "responses = search(\"location:PhuQuoc OR captions:coral\")\n",
    "for hit in responses[:10]:\n",
    "    print(hit.meta.score)\n",
    "    print(hit.meta.id)\n",
    "    print(hit.captions)"
   ]
  },
  {
   "cell_type": "code",
   "execution_count": 32,
   "metadata": {},
   "outputs": [
    {
     "data": {
      "text/plain": [
       "<Response: {}>"
      ]
     },
     "execution_count": 32,
     "metadata": {},
     "output_type": "execute_result"
    }
   ],
   "source": [
    "# Using the range query with date fieldsedit\n",
    "# When the <field> parameter is a date field data type, you can use date math with the following parameters:\n",
    "\n",
    "# gt\n",
    "# gte\n",
    "# lt\n",
    "# lte\n",
    "    \n",
    "def time_search(query):\n",
    "    global es\n",
    "    # .query(\"range\", query=query) \\\n",
    "    s = Search(using=es, index=\"vbs23_db\") \\\n",
    "    .query('range', timestamp=query) \\\n",
    "    .extra(size=100, explain=True)\n",
    "    response = s.execute()\n",
    "    return response\n",
    "\n",
    "\n",
    "responses = time_search({\n",
    "    'gte': '2015-08-04T11:00:00',\n",
    "    'lte': 'now'\n",
    "})\n",
    "\n",
    "# for hit in responses[:10]:\n",
    "#     print(hit.meta.score)\n",
    "#     print(hit.meta.id)\n",
    "#     print(hit.captions)\n",
    "responses"
   ]
  }
 ],
 "metadata": {
  "kernelspec": {
   "display_name": "elastic",
   "language": "python",
   "name": "python3"
  },
  "language_info": {
   "codemirror_mode": {
    "name": "ipython",
    "version": 3
   },
   "file_extension": ".py",
   "mimetype": "text/x-python",
   "name": "python",
   "nbconvert_exporter": "python",
   "pygments_lexer": "ipython3",
   "version": "3.8.13 (default, Oct 21 2022, 23:50:54) \n[GCC 11.2.0]"
  },
  "vscode": {
   "interpreter": {
    "hash": "3e242d2624af79f4ab82e775fce7e2f7901da21f9b094faabf8c3149972e54fd"
   }
  }
 },
 "nbformat": 4,
 "nbformat_minor": 4
}
